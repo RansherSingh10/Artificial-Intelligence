{
  "nbformat": 4,
  "nbformat_minor": 0,
  "metadata": {
    "colab": {
      "name": "resolution.ipynb",
      "provenance": []
    },
    "kernelspec": {
      "name": "python3",
      "display_name": "Python 3"
    },
    "language_info": {
      "name": "python"
    }
  },
  "cells": [
    {
      "cell_type": "code",
      "metadata": {
        "colab": {
          "base_uri": "https://localhost:8080/"
        },
        "id": "nU2EQaX-mgeC",
        "outputId": "40776cae-e887-40cc-d96a-e0e3e27a1fc9"
      },
      "source": [
        "!pip install sympy"
      ],
      "execution_count": 1,
      "outputs": [
        {
          "output_type": "stream",
          "text": [
            "Requirement already satisfied: sympy in /usr/local/lib/python3.7/dist-packages (1.7.1)\n",
            "Requirement already satisfied: mpmath>=0.19 in /usr/local/lib/python3.7/dist-packages (from sympy) (1.2.1)\n"
          ],
          "name": "stdout"
        }
      ]
    },
    {
      "cell_type": "code",
      "metadata": {
        "id": "UutghrYemkzf"
      },
      "source": [
        "from sympy.logic.boolalg import Not, And, simplify_logic\n",
        "from sympy.abc import P, Q, R"
      ],
      "execution_count": 68,
      "outputs": []
    },
    {
      "cell_type": "code",
      "metadata": {
        "id": "DRpRJHBbmnI-"
      },
      "source": [
        "x = (P)"
      ],
      "execution_count": 69,
      "outputs": []
    },
    {
      "cell_type": "code",
      "metadata": {
        "id": "5Bp1prwbnveE"
      },
      "source": [
        "y = ( (~P) | Q)"
      ],
      "execution_count": 70,
      "outputs": []
    },
    {
      "cell_type": "code",
      "metadata": {
        "id": "c37cMqbjoUnq"
      },
      "source": [
        "z = ( (~P) | (~Q) | (R))"
      ],
      "execution_count": 71,
      "outputs": []
    },
    {
      "cell_type": "code",
      "metadata": {
        "id": "Zne5sC8loaQ3"
      },
      "source": [
        "#prove R is true\n",
        "res = Not(R)"
      ],
      "execution_count": 72,
      "outputs": []
    },
    {
      "cell_type": "code",
      "metadata": {
        "id": "Exb9ktEwobDQ"
      },
      "source": [
        "l = [x, y, z]"
      ],
      "execution_count": 73,
      "outputs": []
    },
    {
      "cell_type": "code",
      "metadata": {
        "colab": {
          "base_uri": "https://localhost:8080/",
          "height": 38
        },
        "id": "hLjttxLGpoAx",
        "outputId": "7db2a9df-6c93-4901-906f-c635f5eea0c5"
      },
      "source": [
        "for i in l:\n",
        "    res = And(res, i)\n",
        "res"
      ],
      "execution_count": 74,
      "outputs": [
        {
          "output_type": "execute_result",
          "data": {
            "text/latex": "$\\displaystyle P \\wedge \\neg R \\wedge \\left(Q \\vee \\neg P\\right) \\wedge \\left(R \\vee \\neg P \\vee \\neg Q\\right)$",
            "text/plain": [
              "P & ~R & (Q | ~P) & (R | ~P | ~Q)"
            ]
          },
          "metadata": {
            "tags": []
          },
          "execution_count": 74
        }
      ]
    },
    {
      "cell_type": "code",
      "metadata": {
        "colab": {
          "base_uri": "https://localhost:8080/"
        },
        "id": "AiIk5aXOp6Na",
        "outputId": "203e533a-0c0e-450c-e039-5d67c66d74eb"
      },
      "source": [
        "if simplify_logic(res) == False:\n",
        "    print(\"Success\")\n",
        "else:\n",
        "    print(\"Fail\")"
      ],
      "execution_count": 75,
      "outputs": [
        {
          "output_type": "stream",
          "text": [
            "Success\n"
          ],
          "name": "stdout"
        }
      ]
    },
    {
      "cell_type": "code",
      "metadata": {
        "id": "KiPiNgxXrLNX"
      },
      "source": [
        ""
      ],
      "execution_count": null,
      "outputs": []
    }
  ]
}