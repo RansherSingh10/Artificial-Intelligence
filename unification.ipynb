{
  "nbformat": 4,
  "nbformat_minor": 0,
  "metadata": {
    "colab": {
      "name": "unification.ipynb",
      "provenance": []
    },
    "kernelspec": {
      "name": "python3",
      "display_name": "Python 3"
    },
    "language_info": {
      "name": "python"
    }
  },
  "cells": [
    {
      "cell_type": "code",
      "metadata": {
        "id": "h7KG9JlLQDFS"
      },
      "source": [
        "class Variable:\n",
        "    \"\"\"A mathematical variableession with an operator and 0 or more arguments.\n",
        "    op is a str like '+' or 'sin'; args are Variableessions.\n",
        "    Variable('x') or Symbol('x') creates a symbol (a nullary Variable).\n",
        "    Variable('-', x) creates a unary; Variable('+', x, 1) creates a binary.\"\"\"\n",
        "\n",
        "    def __init__(self, op, *args):\n",
        "        self.op = str(op)\n",
        "        self.args = args\n",
        "\n",
        "    # Operator overloads\n",
        "    def __neg__(self):\n",
        "        return Variable('-', self)\n",
        "\n",
        "    def __pos__(self):\n",
        "        return Variable('+', self)\n",
        "\n",
        "    def __invert__(self):\n",
        "        return Variable('~', self)\n",
        "\n",
        "    def __add__(self, rhs):\n",
        "        return Variable('+', self, rhs)\n",
        "\n",
        "    def __sub__(self, rhs):\n",
        "        return Variable('-', self, rhs)\n",
        "\n",
        "    def __mul__(self, rhs):\n",
        "        return Variable('*', self, rhs)\n",
        "\n",
        "    def __pow__(self, rhs):\n",
        "        return Variable('**', self, rhs)\n",
        "\n",
        "    def __mod__(self, rhs):\n",
        "        return Variable('%', self, rhs)\n",
        "\n",
        "    def __and__(self, rhs):\n",
        "        return Variable('&', self, rhs)\n",
        "\n",
        "    def __xor__(self, rhs):\n",
        "        return Variable('^', self, rhs)\n",
        "\n",
        "    def __rshift__(self, rhs):\n",
        "        return Variable('>>', self, rhs)\n",
        "\n",
        "    def __lshift__(self, rhs):\n",
        "        return Variable('<<', self, rhs)\n",
        "\n",
        "    def __truediv__(self, rhs):\n",
        "        return Variable('/', self, rhs)\n",
        "\n",
        "    def __floordiv__(self, rhs):\n",
        "        return Variable('//', self, rhs)\n",
        "\n",
        "    def __matmul__(self, rhs):\n",
        "        return Variable('@', self, rhs)\n",
        "\n",
        "    def __or__(self, rhs):\n",
        "        \"\"\"Allow both P | Q, and P |'==>'| Q.\"\"\"\n",
        "        if isinstance(rhs, Variableession):\n",
        "            return Variable('|', self, rhs)\n",
        "        else:\n",
        "            return PartialVariable(rhs, self)\n",
        "\n",
        "    # Reverse operator overloads\n",
        "    def __radd__(self, lhs):\n",
        "        return Variable('+', lhs, self)\n",
        "\n",
        "    def __rsub__(self, lhs):\n",
        "        return Variable('-', lhs, self)\n",
        "\n",
        "    def __rmul__(self, lhs):\n",
        "        return Variable('*', lhs, self)\n",
        "\n",
        "    def __rdiv__(self, lhs):\n",
        "        return Variable('/', lhs, self)\n",
        "\n",
        "    def __rpow__(self, lhs):\n",
        "        return Variable('**', lhs, self)\n",
        "\n",
        "    def __rmod__(self, lhs):\n",
        "        return Variable('%', lhs, self)\n",
        "\n",
        "    def __rand__(self, lhs):\n",
        "        return Variable('&', lhs, self)\n",
        "\n",
        "    def __rxor__(self, lhs):\n",
        "        return Variable('^', lhs, self)\n",
        "\n",
        "    def __ror__(self, lhs):\n",
        "        return Variable('|', lhs, self)\n",
        "\n",
        "    def __rrshift__(self, lhs):\n",
        "        return Variable('>>', lhs, self)\n",
        "\n",
        "    def __rlshift__(self, lhs):\n",
        "        return Variable('<<', lhs, self)\n",
        "\n",
        "    def __rtruediv__(self, lhs):\n",
        "        return Variable('/', lhs, self)\n",
        "\n",
        "    def __rfloordiv__(self, lhs):\n",
        "        return Variable('//', lhs, self)\n",
        "\n",
        "    def __rmatmul__(self, lhs):\n",
        "        return Variable('@', lhs, self)\n",
        "\n",
        "    def __call__(self, *args):\n",
        "        \"\"\"Call: if 'f' is a Symbol, then f(0) == Variable('f', 0).\"\"\"\n",
        "        if self.args:\n",
        "            raise ValueError('Can only do a call for a Symbol, not an Variable')\n",
        "        else:\n",
        "            return Variable(self.op, *args)\n",
        "\n",
        "    # Equality and repr\n",
        "    def __eq__(self, other):\n",
        "        \"\"\"x == y' evaluates to True or False; does not build an Variable.\"\"\"\n",
        "        return isinstance(other, Variable) and self.op == other.op and self.args == other.args\n",
        "\n",
        "    def __lt__(self, other):\n",
        "        return isinstance(other, Variable) and str(self) < str(other)\n",
        "\n",
        "    def __hash__(self):\n",
        "        return hash(self.op) ^ hash(self.args)\n",
        "\n",
        "    def __repr__(self):\n",
        "        op = self.op\n",
        "        args = [str(arg) for arg in self.args]\n",
        "        if op.isidentifier():  # f(x) or f(x, y)\n",
        "            return '{}({})'.format(op, ', '.join(args)) if args else op\n",
        "        elif len(args) == 1:  # -x or -(x + 1)\n",
        "            return op + args[0]\n",
        "        else:  # (x - y)\n",
        "            opp = (' ' + op + ' ')\n",
        "            return '(' + opp.join(args) + ')'"
      ],
      "execution_count": 33,
      "outputs": []
    },
    {
      "cell_type": "code",
      "metadata": {
        "id": "A6n1TezTPjo9"
      },
      "source": [
        "def is_var(x):\n",
        "    \"\"\"A var is an Variable with no args and a lowercase symbol as the op.\"\"\"\n",
        "    return isinstance(x, Variable) and not x.args and x.op[0].islower()"
      ],
      "execution_count": 47,
      "outputs": []
    },
    {
      "cell_type": "code",
      "metadata": {
        "id": "xHC9Q5isNgLg"
      },
      "source": [
        "def unification_var(var, val, subst):\n",
        "    if var in subst :   \n",
        "        return unification(subst[var], val, subst)\n",
        "    elif isinstance(val, str) and val in subst : \n",
        "        return unification(var, subst[val], subst)\n",
        "    else :\n",
        "        subst[var] = val ; return subst\n",
        "\n",
        "def unification(first, second, subst):\n",
        "\n",
        "    if subst is False : return False\n",
        "    elif isinstance(first, str) and isinstance(second, str) and first == second : return subst\n",
        "    elif isinstance(first, str) and is_var(second) : return unification_var(second, first, subst)\n",
        "    elif isinstance(second, str) and is_var(first) : return unification_var(first, second, subst)\n",
        "    elif isinstance(first, list) and isinstance(second, list) : \n",
        "        if len(first) == 0 and len(second) == 0 : return subst\n",
        "        return unification(first[1:],second[1:], unification(first[0], second[0], subst))\n",
        "    else: return False"
      ],
      "execution_count": 114,
      "outputs": []
    },
    {
      "cell_type": "code",
      "metadata": {
        "colab": {
          "base_uri": "https://localhost:8080/"
        },
        "id": "Y0Rha0RZNg5V",
        "outputId": "305a88e2-f769-4ef8-ab91-ed8128ef7d82"
      },
      "source": [
        "unification(['p', 'q', 'a+b'], ['p', 'q',Variable('x')],{}) "
      ],
      "execution_count": 124,
      "outputs": [
        {
          "output_type": "execute_result",
          "data": {
            "text/plain": [
              "{x: 'a+b'}"
            ]
          },
          "metadata": {
            "tags": []
          },
          "execution_count": 124
        }
      ]
    },
    {
      "cell_type": "code",
      "metadata": {
        "colab": {
          "base_uri": "https://localhost:8080/"
        },
        "id": "ZKO4DhbzR732",
        "outputId": "194e11dc-cb44-4930-d4a6-2f7aabe60acc"
      },
      "source": [
        "unification(['p', 'r', 'a+b'], ['p', 'q',Variable('x')],{}) "
      ],
      "execution_count": 125,
      "outputs": [
        {
          "output_type": "execute_result",
          "data": {
            "text/plain": [
              "False"
            ]
          },
          "metadata": {
            "tags": []
          },
          "execution_count": 125
        }
      ]
    },
    {
      "cell_type": "code",
      "metadata": {
        "colab": {
          "base_uri": "https://localhost:8080/"
        },
        "id": "jmYSN4DNVdo-",
        "outputId": "f79d0e63-f309-494d-f5f4-af8c9e5bad36"
      },
      "source": [
        "unification(['p', 'q', 'a'], ['p', Variable('y'),Variable('x')],{}) "
      ],
      "execution_count": 127,
      "outputs": [
        {
          "output_type": "execute_result",
          "data": {
            "text/plain": [
              "{x: 'a', y: 'q'}"
            ]
          },
          "metadata": {
            "tags": []
          },
          "execution_count": 127
        }
      ]
    },
    {
      "cell_type": "code",
      "metadata": {
        "id": "4YVzWCozb8lL"
      },
      "source": [],
      "execution_count": null,
      "outputs": []
    }
  ]
}
